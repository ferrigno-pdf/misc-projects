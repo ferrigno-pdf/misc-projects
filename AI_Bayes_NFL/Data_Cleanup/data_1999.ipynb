{
 "cells": [
  {
   "cell_type": "markdown",
   "id": "0eceeda5-2750-4275-9eb3-42dae3325587",
   "metadata": {},
   "source": [
    "# Data Cleanup for nfl-team-statistics.csv"
   ]
  },
  {
   "cell_type": "markdown",
   "id": "183d6d5e-a17f-4823-9db6-b07c85811845",
   "metadata": {},
   "source": [
    "This separate notebook was created to modify team names for merging purposes\n",
    "\n",
    "This notebook creates clean_nfl_1999_stats.csv"
   ]
  },
  {
   "cell_type": "code",
   "execution_count": 1,
   "id": "0b375c13-9216-4416-9bee-0e3531c1006d",
   "metadata": {},
   "outputs": [],
   "source": [
    "import pandas as pd"
   ]
  },
  {
   "cell_type": "code",
   "execution_count": 2,
   "id": "91e94e9b-18ba-42f7-bdaf-87f174379d2f",
   "metadata": {},
   "outputs": [],
   "source": [
    "df = pd.read_csv(\"../Data/nfl-team-statistics.csv\")"
   ]
  },
  {
   "cell_type": "code",
   "execution_count": 3,
   "id": "b0995520-db21-4854-91a6-7a5ac70929be",
   "metadata": {},
   "outputs": [],
   "source": [
    "# changes team name\n",
    "team_name_map = {\n",
    "    \"ARI\": \"Arizona Cardinals\",\n",
    "    \"ATL\": \"Atlanta Falcons\",\n",
    "    \"BAL\": \"Baltimore Ravens\",\n",
    "    \"BUF\": \"Buffalo Bills\",\n",
    "    \"CAR\": \"Carolina Panthers\",\n",
    "    \"CHI\": \"Chicago Bears\",\n",
    "    \"CIN\": \"Cincinnati Bengals\",\n",
    "    \"CLE\": \"Cleveland Browns\",\n",
    "    \"DAL\": \"Dallas Cowboys\",\n",
    "    \"DEN\": \"Denver Broncos\",\n",
    "    \"DET\": \"Detroit Lions\",\n",
    "    \"GB\": \"Green Bay Packers\",\n",
    "    \"HOU\": \"Houston Texans\",\n",
    "    \"IND\": \"Indianapolis Colts\",\n",
    "    \"JAX\": \"Jacksonville Jaguars\",\n",
    "    \"KC\": \"Kansas City Chiefs\",\n",
    "    \"LV\": \"Las Vegas Raiders\",\n",
    "    \"LAC\": \"Los Angeles Chargers\",\n",
    "    \"LA\": \"Los Angeles Rams\",\n",
    "    \"MIA\": \"Miami Dolphins\",\n",
    "    \"MIN\": \"Minnesota Vikings\",\n",
    "    \"NE\": \"New England Patriots\",\n",
    "    \"NO\": \"New Orleans Saints\",\n",
    "    \"NYG\": \"New York Giants\",\n",
    "    \"NYJ\": \"New York Jets\",\n",
    "    \"PHI\": \"Philadelphia Eagles\",\n",
    "    \"PIT\": \"Pittsburgh Steelers\",\n",
    "    \"SF\": \"San Francisco 49ers\",\n",
    "    \"SEA\": \"Seattle Seahawks\",\n",
    "    \"TB\": \"Tampa Bay Buccaneers\",\n",
    "    \"TEN\": \"Tennessee Titans\",\n",
    "    \"WAS\": \"Washington Commanders\"\n",
    "}\n"
   ]
  },
  {
   "cell_type": "code",
   "execution_count": 4,
   "id": "1a713cb1-67a6-42dd-a88c-7b2e4da0d46a",
   "metadata": {},
   "outputs": [],
   "source": [
    "df[\"team\"] = df[\"team\"].replace(team_name_map)\n",
    "df.rename(columns={\"season\":\"Year\", \"team\": \"Team\"}, inplace=True)"
   ]
  },
  {
   "cell_type": "code",
   "execution_count": 5,
   "id": "750b3c32-478e-4485-b9ba-1fe6c901c3f6",
   "metadata": {},
   "outputs": [],
   "source": [
    "df.to_csv('../Data/clean_nfl_1999_stats.csv', index=False)"
   ]
  },
  {
   "cell_type": "code",
   "execution_count": null,
   "id": "60bfa015-d9d6-4c93-ad57-13af61a9f067",
   "metadata": {},
   "outputs": [],
   "source": []
  }
 ],
 "metadata": {
  "kernelspec": {
   "display_name": "Python 3 (ipykernel)",
   "language": "python",
   "name": "python3"
  },
  "language_info": {
   "codemirror_mode": {
    "name": "ipython",
    "version": 3
   },
   "file_extension": ".py",
   "mimetype": "text/x-python",
   "name": "python",
   "nbconvert_exporter": "python",
   "pygments_lexer": "ipython3",
   "version": "3.11.5"
  }
 },
 "nbformat": 4,
 "nbformat_minor": 5
}
