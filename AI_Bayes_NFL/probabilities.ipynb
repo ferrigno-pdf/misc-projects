{
 "cells": [
  {
   "cell_type": "markdown",
   "id": "23bed441-eeb3-4aa3-916e-f4598a759c8e",
   "metadata": {},
   "source": [
    "# Notebook for calculating CPTs"
   ]
  },
  {
   "cell_type": "code",
   "execution_count": 1,
   "id": "ca4dd930-57b3-4290-b098-688735365372",
   "metadata": {},
   "outputs": [],
   "source": [
    "import pandas as pd\n",
    "import numpy as np"
   ]
  },
  {
   "cell_type": "markdown",
   "id": "b1f04522-3f06-4278-a07a-bed79d9b64b1",
   "metadata": {},
   "source": [
    "### Filtering dataset to only keep the relevant metrics"
   ]
  },
  {
   "cell_type": "code",
   "execution_count": 2,
   "id": "43e932be-b3f2-4e54-afa5-044064cec300",
   "metadata": {},
   "outputs": [],
   "source": [
    "unfiltered = pd.read_csv(\"Data/Binary_Dataset.csv\")"
   ]
  },
  {
   "cell_type": "code",
   "execution_count": 3,
   "id": "f2284ff1-72e7-40fc-8d31-f5fb8033dcc2",
   "metadata": {},
   "outputs": [],
   "source": [
    "columns = [\n",
    "    \"defense_ave_epa_pass\", \"DSRS\", \"offense_ave_yards_gained_pass\", \"OSRS\",\n",
    "    \"offense_ave_wpa_pass\", \"defense_ave_yards_gained_pass\", \"Avg_Points_Allowed\",\n",
    "    \"Avg_Points_Scored\", \"SRS\", \"MoV\", \"PD\", \"W-L%\", \"Playoffs\"\n",
    "]"
   ]
  },
  {
   "cell_type": "code",
   "execution_count": 4,
   "id": "67a936fc-99aa-43ef-977a-39becc7dc6cc",
   "metadata": {},
   "outputs": [],
   "source": [
    "df = unfiltered[columns]"
   ]
  },
  {
   "cell_type": "markdown",
   "id": "36d04e8f-d35b-4fd9-b57b-47d769b274c7",
   "metadata": {},
   "source": [
    "## Thresholds"
   ]
  },
  {
   "cell_type": "markdown",
   "id": "5b442dff-b978-44ef-90fb-00bcbf1a43fa",
   "metadata": {},
   "source": [
    "As a refresher, when converting to binary, we used certain thresholds for each metric. These were the thresholds for each metric that will be used:\n",
    "\n",
    "- **defense_ave_epa_pass:** A rate below -0.02 is strong for a defense.\n",
    "- **DSRS:** Above 0.1 for an above average team.\n",
    "- **offense_ave_yards_gained_pass:** More than 6.6 passing yards per play.\n",
    "- **OSRS:** Above average team has an OSRS above 2.\n",
    "- **offense_ave_wpa_pass:** Above 0.002 is above average.\n",
    "- **defense_ave_yards_gained_pass:** A defense that allows more than 5.9 passing yards per play is considered weak.\n",
    "- **Avg_Points_Allowed:** A strong team allows less than 21 ppg on average.\n",
    "- **Avg_Points_Scored:** A strong team scores more than 24 ppg on average.\n",
    "- **SRS:** An above average team has an SRS above 0.\n",
    "- **MoV:** A strong team wins by more than 6.5 points.\n",
    "- **PD:** A strong team has a point differential of more than 50.\n",
    "- **W-L%:** A strong team wins more than 59% of the time."
   ]
  },
  {
   "cell_type": "markdown",
   "id": "cb4076eb-f4cf-41c9-bbe0-c1fd875114e9",
   "metadata": {},
   "source": [
    "__Additional notes__\n",
    "- defense_ave_epa_pass > -0.02\n",
    "- DSRS > 0.1\n",
    "- offense_ave_yards_gained_pass > 6.6\n",
    "- OSRS > 2\n",
    "- offense_ave_wpa_pass > 0.002\n",
    "- defense_ave_yards_gained_pass > 5.9 (value of 0 means stronger defense)\n",
    "- Avg_Points_Allowed >= 21 (value of 0 means stronger defense)\n",
    "- Avg_Points_Scored >= 24\n",
    "- SRS > 0\n",
    "- MoV >= 7\n",
    "- PD > 50\n",
    "- W-L% > 0.59"
   ]
  },
  {
   "cell_type": "markdown",
   "id": "ff4e5547-5938-4bb3-8631-624a21b2cd04",
   "metadata": {},
   "source": [
    "## Calculating probabilities for first level of network"
   ]
  },
  {
   "cell_type": "code",
   "execution_count": 5,
   "id": "a9e83494-d52a-4860-b00b-8ddb422561c8",
   "metadata": {},
   "outputs": [],
   "source": [
    "length = len(df)\n",
    "# Values of 1 indicate weak defense\n",
    "defense_ave_epa_pass_rate_prob = np.sum(df[\"defense_ave_epa_pass\"] == 1) / length\n",
    "DSRS_prob = np.sum(df[\"DSRS\"] == 1) / length\n",
    "offense_ave_yards_gained_pass_prob = np.sum(df[\"offense_ave_yards_gained_pass\"] == 1) / length\n",
    "OSRS_prob = np.sum(df[\"OSRS\"] == 1) / length\n",
    "offense_ave_wpa_pass_prob = np.sum(df[\"offense_ave_wpa_pass\"] == 1) / length\n",
    "# Average Allowed Passing Yards Per Play, values of 1 indicate weak defense\n",
    "defense_ave_yards_gained_pass_prob = np.sum(df[\"defense_ave_yards_gained_pass\"] == 1) / length\n",
    "# Margin of Victory\n",
    "MoV_prob = np.sum(df[\"MoV\"] == 1) / length"
   ]
  },
  {
   "cell_type": "code",
   "execution_count": 6,
   "id": "b076dd4d-4f77-458d-bfb6-cbfdafe2b842",
   "metadata": {},
   "outputs": [
    {
     "name": "stdout",
     "output_type": "stream",
     "text": [
      "Defense Average EPA Pass Rate: 0.6209912536443148\n",
      "DSRS: 0.4912536443148688\n",
      "Average Passing Yards per Play (Offensive): 0.28717201166180756\n",
      "OSRS: 0.3075801749271137\n",
      "Offensive Average WPA Pass Rate: 0.29008746355685133\n",
      "Average Allowed Passing Yards Per Play: 0.6545189504373178\n",
      "Margin of Victory: 0.15451895043731778\n"
     ]
    }
   ],
   "source": [
    "print(f\"Defense Average EPA Pass Rate: {defense_ave_epa_pass_rate_prob}\")\n",
    "print(f\"DSRS: {DSRS_prob}\")\n",
    "print(f\"Average Passing Yards per Play (Offensive): {offense_ave_yards_gained_pass_prob}\")\n",
    "print(f\"OSRS: {OSRS_prob}\")\n",
    "print(f\"Offensive Average WPA Pass Rate: {offense_ave_wpa_pass_prob}\")\n",
    "print(f\"Average Allowed Passing Yards Per Play: {defense_ave_yards_gained_pass_prob}\")\n",
    "print(f\"Margin of Victory: {MoV_prob}\")"
   ]
  },
  {
   "cell_type": "markdown",
   "id": "93c7975f-1f1e-4ade-a933-63854651c65b",
   "metadata": {},
   "source": [
    "## Calculating CPTs (Second Level)"
   ]
  },
  {
   "cell_type": "markdown",
   "id": "30416910-794c-43cf-9468-c85a44f0c6d5",
   "metadata": {},
   "source": [
    "### Average Points Allowed"
   ]
  },
  {
   "cell_type": "code",
   "execution_count": 7,
   "id": "beb9c0d7-d83e-4ff0-ba7d-bf637a7ec776",
   "metadata": {},
   "outputs": [
    {
     "name": "stdout",
     "output_type": "stream",
     "text": [
      "{('T', 'T'): 0.5590551181102362, ('T', 'F'): 0.03678929765886288, ('F', 'T'): 0.8904761904761904, ('F', 'F'): 0.28}\n"
     ]
    }
   ],
   "source": [
    "conditions = {\n",
    "    (\"T\", \"T\"): (df[\"defense_ave_epa_pass\"] == 1) & (df[\"DSRS\"] == 1),\n",
    "    (\"T\", \"F\"): (df[\"defense_ave_epa_pass\"] == 1) & (df[\"DSRS\"] == 0),\n",
    "    (\"F\", \"T\"): (df[\"defense_ave_epa_pass\"] == 0) & (df[\"DSRS\"] == 1),\n",
    "    (\"F\", \"F\"): (df[\"defense_ave_epa_pass\"] == 0) & (df[\"DSRS\"] == 0)\n",
    "}\n",
    "\n",
    "Avg_Points_Allowed_Dic = {}\n",
    "\n",
    "for key, condition in conditions.items():\n",
    "    subset = df[condition]\n",
    "    total_instances = len(subset)\n",
    "    true_instances = np.sum(subset[\"Avg_Points_Allowed\"] == 0)\n",
    "    if total_instances > 0:\n",
    "        Avg_Points_Allowed_Dic[key] = true_instances / total_instances\n",
    "    else:\n",
    "        Avg_Points_Allowed_Dic[key] = 0\n",
    "\n",
    "print(Avg_Points_Allowed_Dic)"
   ]
  },
  {
   "cell_type": "markdown",
   "id": "633bbad4-ef26-4617-8536-8699dd79551e",
   "metadata": {},
   "source": [
    "### Average Points Scored"
   ]
  },
  {
   "cell_type": "code",
   "execution_count": 8,
   "id": "8b5bb368-eae5-4ed7-af14-edd81963cffe",
   "metadata": {},
   "outputs": [
    {
     "name": "stdout",
     "output_type": "stream",
     "text": [
      "{('T', 'T'): 0.9370629370629371, ('T', 'F'): 0.4074074074074074, ('F', 'T'): 0.7205882352941176, ('F', 'F'): 0.057007125890736345}\n"
     ]
    }
   ],
   "source": [
    "# Calculating P(Average_Points_Scored | Average Passing Yards Per Play (Offense), OSRS)\n",
    "# (Average_Points_Scored = T) / (Average Passing Yards Per Play (Offense) = T/F, OSRS = T/F)\n",
    "conditions = {\n",
    "    (\"T\", \"T\"): (df[\"offense_ave_yards_gained_pass\"] == 1) & (df[\"OSRS\"] == 1),\n",
    "    (\"T\", \"F\"): (df[\"offense_ave_yards_gained_pass\"] == 1) & (df[\"OSRS\"] == 0),\n",
    "    (\"F\", \"T\"): (df[\"offense_ave_yards_gained_pass\"] == 0) & (df[\"OSRS\"] == 1),\n",
    "    (\"F\", \"F\"): (df[\"offense_ave_yards_gained_pass\"] == 0) & (df[\"OSRS\"] == 0)\n",
    "}\n",
    "\n",
    "Avg_Points_Scored_Dic = {}\n",
    "\n",
    "for key, condition in conditions.items():\n",
    "    subset = df[condition]\n",
    "    total_instances = len(subset)\n",
    "    true_instances = np.sum(subset[\"Avg_Points_Scored\"] == 1)\n",
    "    if total_instances > 0:\n",
    "        Avg_Points_Scored_Dic[key] = true_instances / total_instances\n",
    "    else:\n",
    "        Avg_Points_Scored_Dic[key] = 0\n",
    "\n",
    "print(Avg_Points_Scored_Dic)\n",
    "    "
   ]
  },
  {
   "cell_type": "markdown",
   "id": "b1c6af47-a949-4761-a2dc-060e7ea7df30",
   "metadata": {},
   "source": [
    "### SRS"
   ]
  },
  {
   "cell_type": "code",
   "execution_count": 9,
   "id": "eae2fd7a-6888-461a-9fa2-ad26d2d9c51d",
   "metadata": {},
   "outputs": [
    {
     "name": "stdout",
     "output_type": "stream",
     "text": [
      "{('T', 'T'): 0.7318840579710145, ('T', 'F'): 0.9672131147540983, ('F', 'T'): 0.2315112540192926, ('F', 'F'): 0.6818181818181818}\n"
     ]
    }
   ],
   "source": [
    "conditions = {\n",
    "    (\"T\", \"T\"): (df[\"offense_ave_wpa_pass\"] == 1) & (df[\"defense_ave_yards_gained_pass\"] == 1),\n",
    "    (\"T\", \"F\"): (df[\"offense_ave_wpa_pass\"] == 1) & (df[\"defense_ave_yards_gained_pass\"] == 0),\n",
    "    (\"F\", \"T\"): (df[\"offense_ave_wpa_pass\"] == 0) & (df[\"defense_ave_yards_gained_pass\"] == 1),\n",
    "    (\"F\", \"F\"): (df[\"offense_ave_wpa_pass\"] == 0) & (df[\"defense_ave_yards_gained_pass\"] == 0)\n",
    "}\n",
    "\n",
    "SRS_Dic = {}\n",
    "\n",
    "for key, condition in conditions.items():\n",
    "    subset = df[condition]\n",
    "    total_instances = len(subset)\n",
    "    true_instances = np.sum(subset[\"SRS\"] == 1)\n",
    "    if total_instances > 0:\n",
    "        SRS_Dic[key] = true_instances / total_instances\n",
    "    else:\n",
    "        SRS_Dic[key] = 0\n",
    "\n",
    "print(SRS_Dic)"
   ]
  },
  {
   "cell_type": "markdown",
   "id": "e233fff1-d4fb-43e7-99b6-febe657444dc",
   "metadata": {},
   "source": [
    "## Calculating CPTs for Third Level of Network"
   ]
  },
  {
   "cell_type": "markdown",
   "id": "876b3cd8-37e5-48a0-9052-fd8123a47fc0",
   "metadata": {},
   "source": [
    "### Point Difference"
   ]
  },
  {
   "cell_type": "code",
   "execution_count": 10,
   "id": "a4f20018-67ba-4ee1-9c2d-6d39320fc87f",
   "metadata": {},
   "outputs": [
    {
     "name": "stdout",
     "output_type": "stream",
     "text": [
      "{('T', 'T'): 0.5042735042735043, ('T', 'F'): 0.0, ('F', 'T'): 1.0, ('F', 'F'): 0.3157894736842105}\n"
     ]
    }
   ],
   "source": [
    "conditions = {\n",
    "    (\"T\", \"T\"): (df[\"Avg_Points_Allowed\"] == 1) & (df[\"Avg_Points_Scored\"] == 1),\n",
    "    (\"T\", \"F\"): (df[\"Avg_Points_Allowed\"] == 1) & (df[\"Avg_Points_Scored\"] == 0),\n",
    "    (\"F\", \"T\"): (df[\"Avg_Points_Allowed\"] == 0) & (df[\"Avg_Points_Scored\"] == 1),\n",
    "    (\"F\", \"F\"): (df[\"Avg_Points_Allowed\"] == 0) & (df[\"Avg_Points_Scored\"] == 0)\n",
    "}\n",
    "\n",
    "PD_Dic = {}\n",
    "\n",
    "for key, condition in conditions.items():\n",
    "    subset = df[condition]\n",
    "    total_instances = len(subset)\n",
    "    true_instances = np.sum(subset[\"PD\"] == 1)\n",
    "    if total_instances > 0:\n",
    "        PD_Dic[key] = true_instances / total_instances\n",
    "    else:\n",
    "        PD_Dic[key] = 0\n",
    "\n",
    "print(PD_Dic)"
   ]
  },
  {
   "cell_type": "markdown",
   "id": "5145c79c-d79d-434b-a17a-4b5f5387058d",
   "metadata": {},
   "source": [
    "### Win-Loss Percentage"
   ]
  },
  {
   "cell_type": "code",
   "execution_count": 12,
   "id": "a9c4f7d7-615d-4ea0-b9f6-c15c345d4519",
   "metadata": {},
   "outputs": [
    {
     "name": "stdout",
     "output_type": "stream",
     "text": [
      "{('T', 'T'): 0.9622641509433962, ('T', 'F'): 0.508130081300813, ('F', 'T'): 0, ('F', 'F'): 0.038922155688622756}\n"
     ]
    }
   ],
   "source": [
    "conditions = {\n",
    "    (\"T\", \"T\"): (df[\"SRS\"] == 1) & (df[\"MoV\"] == 1),\n",
    "    (\"T\", \"F\"): (df[\"SRS\"] == 1) & (df[\"MoV\"] == 0),\n",
    "    (\"F\", \"T\"): (df[\"SRS\"] == 0) & (df[\"MoV\"] == 1),\n",
    "    (\"F\", \"F\"): (df[\"SRS\"] == 0) & (df[\"MoV\"] == 0)\n",
    "}\n",
    "\n",
    "WL_Dic = {}\n",
    "\n",
    "for key, condition in conditions.items():\n",
    "    subset = df[condition]\n",
    "    total_instances = len(subset)\n",
    "    true_instances = np.sum(subset[\"W-L%\"] == 1)\n",
    "    if total_instances > 0:\n",
    "        WL_Dic[key] = true_instances / total_instances\n",
    "    else:\n",
    "        WL_Dic[key] = 0\n",
    "\n",
    "print(WL_Dic)"
   ]
  },
  {
   "cell_type": "markdown",
   "id": "e00656dd-17ee-4e88-92b8-395786824f00",
   "metadata": {},
   "source": [
    "### Playoff Variable"
   ]
  },
  {
   "cell_type": "code",
   "execution_count": 13,
   "id": "02889c51-39e7-4e86-805b-a37abcb42d90",
   "metadata": {},
   "outputs": [
    {
     "name": "stdout",
     "output_type": "stream",
     "text": [
      "{('T', 'T'): 0.9587628865979382, ('T', 'F'): 0.3225806451612903, ('F', 'T'): 0.9130434782608695, ('F', 'F'): 0.0819277108433735}\n"
     ]
    }
   ],
   "source": [
    "conditions = {\n",
    "    (\"T\", \"T\"): (df[\"PD\"] == 1) & (df[\"W-L%\"] == 1),\n",
    "    (\"T\", \"F\"): (df[\"PD\"] == 1) & (df[\"W-L%\"] == 0),\n",
    "    (\"F\", \"T\"): (df[\"PD\"] == 0) & (df[\"W-L%\"] == 1),\n",
    "    (\"F\", \"F\"): (df[\"PD\"] == 0) & (df[\"W-L%\"] == 0)\n",
    "}\n",
    "\n",
    "Playoff_Dic = {}\n",
    "\n",
    "for key, condition in conditions.items():\n",
    "    subset = df[condition]\n",
    "    total_instances = len(subset)\n",
    "    true_instances = np.sum(subset[\"Playoffs\"] == 1)\n",
    "    if total_instances > 0:\n",
    "        Playoff_Dic[key] = true_instances / total_instances\n",
    "    else:\n",
    "        Playoff_Dic[key] = 0\n",
    "\n",
    "print(Playoff_Dic)"
   ]
  },
  {
   "cell_type": "markdown",
   "id": "1b4a566b-5f46-4547-bc84-8bc59c8fb766",
   "metadata": {},
   "source": [
    "_Note: All of these values will be stored in an excel file called CPTs.xlsx_"
   ]
  },
  {
   "cell_type": "code",
   "execution_count": null,
   "id": "f4ad9b73-c9f8-47e6-9424-d80ec6460ba5",
   "metadata": {},
   "outputs": [],
   "source": []
  }
 ],
 "metadata": {
  "kernelspec": {
   "display_name": "Python 3 (ipykernel)",
   "language": "python",
   "name": "python3"
  },
  "language_info": {
   "codemirror_mode": {
    "name": "ipython",
    "version": 3
   },
   "file_extension": ".py",
   "mimetype": "text/x-python",
   "name": "python",
   "nbconvert_exporter": "python",
   "pygments_lexer": "ipython3",
   "version": "3.11.5"
  }
 },
 "nbformat": 4,
 "nbformat_minor": 5
}
